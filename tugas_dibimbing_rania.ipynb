{
  "nbformat": 4,
  "nbformat_minor": 0,
  "metadata": {
    "colab": {
      "provenance": [],
      "mount_file_id": "1eBLnKOGKsolkFAcqT1ozquQK6EMh5Kgx",
      "authorship_tag": "ABX9TyOL/GxveUFeipSb3YUtvuch",
      "include_colab_link": true
    },
    "kernelspec": {
      "name": "python3",
      "display_name": "Python 3"
    },
    "language_info": {
      "name": "python"
    }
  },
  "cells": [
    {
      "cell_type": "markdown",
      "metadata": {
        "id": "view-in-github",
        "colab_type": "text"
      },
      "source": [
        "<a href=\"https://colab.research.google.com/github/Rania968/Rania_TugasDibimbing1/blob/main/tugas_dibimbing_rania.ipynb\" target=\"_parent\"><img src=\"https://colab.research.google.com/assets/colab-badge.svg\" alt=\"Open In Colab\"/></a>"
      ]
    },
    {
      "cell_type": "code",
      "execution_count": 1,
      "metadata": {
        "id": "rX-CT-ktMzqG"
      },
      "outputs": [],
      "source": [
        "import pandas as pd\n",
        "file_path = '/content/drive/MyDrive/student_admission_record_dirty.csv'\n",
        "data = pd.read_csv(file_path)"
      ]
    },
    {
      "cell_type": "code",
      "source": [
        "print('Informasi Data:')\n",
        "data.info()"
      ],
      "metadata": {
        "colab": {
          "base_uri": "https://localhost:8080/"
        },
        "id": "btKczF4WRQuf",
        "outputId": "e6f56c86-2b97-4e91-ec15-97cbb0caec6c"
      },
      "execution_count": 2,
      "outputs": [
        {
          "output_type": "stream",
          "name": "stdout",
          "text": [
            "Informasi Data:\n",
            "<class 'pandas.core.frame.DataFrame'>\n",
            "RangeIndex: 157 entries, 0 to 156\n",
            "Data columns (total 7 columns):\n",
            " #   Column                  Non-Null Count  Dtype  \n",
            "---  ------                  --------------  -----  \n",
            " 0   Name                    147 non-null    object \n",
            " 1   Age                     147 non-null    float64\n",
            " 2   Gender                  147 non-null    object \n",
            " 3   Admission Test Score    146 non-null    float64\n",
            " 4   High School Percentage  146 non-null    float64\n",
            " 5   City                    147 non-null    object \n",
            " 6   Admission Status        147 non-null    object \n",
            "dtypes: float64(3), object(4)\n",
            "memory usage: 8.7+ KB\n"
          ]
        }
      ]
    },
    {
      "cell_type": "code",
      "source": [
        "print('\\nJumlah Nilai Hilang:')\n",
        "print(data.isna().sum())"
      ],
      "metadata": {
        "colab": {
          "base_uri": "https://localhost:8080/"
        },
        "id": "FzzTLnqQRWTH",
        "outputId": "a0b5c6b9-42f2-429e-bcb9-11469e6074a7"
      },
      "execution_count": 3,
      "outputs": [
        {
          "output_type": "stream",
          "name": "stdout",
          "text": [
            "\n",
            "Jumlah Nilai Hilang:\n",
            "Name                      10\n",
            "Age                       10\n",
            "Gender                    10\n",
            "Admission Test Score      11\n",
            "High School Percentage    11\n",
            "City                      10\n",
            "Admission Status          10\n",
            "dtype: int64\n"
          ]
        }
      ]
    },
    {
      "cell_type": "code",
      "source": [
        "# Mengisi nilai hilang pada kolom bertipe objek dengan modus dan numerik dengan rata-rata\n",
        "for column in data.columns:\n",
        "    if data[column].dtype == 'object':\n",
        "        # Jika kolom bertipe objek (teks), isi dengan modus\n",
        "        mode_value = data[column].mode()[0]\n",
        "        data[column] = data[column].fillna(mode_value)\n",
        "    else:\n",
        "        # Jika kolom numerik, isi dengan nilai rata-rata\n",
        "        mean_value = data[column].mean()\n",
        "        data[column] = data[column].fillna(mean_value)\n"
      ],
      "metadata": {
        "id": "oTnyu4T9Rg8o"
      },
      "execution_count": 7,
      "outputs": []
    },
    {
      "cell_type": "code",
      "source": [
        "print('\\nJumlah Nilai Hilang Setelah Pembersihan:')\n",
        "print(data.isna().sum())"
      ],
      "metadata": {
        "colab": {
          "base_uri": "https://localhost:8080/"
        },
        "id": "PtuC46niSEbs",
        "outputId": "3ba94949-fa4c-4ae7-8308-d87aa6ed408b"
      },
      "execution_count": 8,
      "outputs": [
        {
          "output_type": "stream",
          "name": "stdout",
          "text": [
            "\n",
            "Jumlah Nilai Hilang Setelah Pembersihan:\n",
            "Name                      0\n",
            "Age                       0\n",
            "Gender                    0\n",
            "Admission Test Score      0\n",
            "High School Percentage    0\n",
            "City                      0\n",
            "Admission Status          0\n",
            "dtype: int64\n"
          ]
        }
      ]
    },
    {
      "cell_type": "code",
      "source": [
        "check_duplicate = data.duplicated().sum()\n",
        "print(f'Jumlah Data Duplikat: {check_duplicate}')"
      ],
      "metadata": {
        "colab": {
          "base_uri": "https://localhost:8080/"
        },
        "id": "LiBHyIrJSU3k",
        "outputId": "0fcdbcdf-234b-4c5f-e2c1-f820e3adff73"
      },
      "execution_count": 9,
      "outputs": [
        {
          "output_type": "stream",
          "name": "stdout",
          "text": [
            "Jumlah Data Duplikat: 7\n"
          ]
        }
      ]
    },
    {
      "cell_type": "code",
      "source": [
        "data = data.drop_duplicates()"
      ],
      "metadata": {
        "id": "RBLju13IStPp"
      },
      "execution_count": 10,
      "outputs": []
    },
    {
      "cell_type": "code",
      "source": [
        "handle_duplicate = data.duplicated().sum()\n",
        "print(f'Jumlah Data Duplikat Setelah Dihapus: {handle_duplicate}')"
      ],
      "metadata": {
        "colab": {
          "base_uri": "https://localhost:8080/"
        },
        "id": "ypRwpSzhSZkA",
        "outputId": "61858613-0a7f-4d68-f4fb-fa53ca94c0b0"
      },
      "execution_count": 12,
      "outputs": [
        {
          "output_type": "stream",
          "name": "stdout",
          "text": [
            "Jumlah Data Duplikat Setelah Dihapus: 0\n"
          ]
        }
      ]
    },
    {
      "cell_type": "code",
      "source": [
        "print('\\nData Bersih:')\n",
        "print(data.head())"
      ],
      "metadata": {
        "colab": {
          "base_uri": "https://localhost:8080/"
        },
        "id": "aCbWId09Svzb",
        "outputId": "0518a42e-e3c3-4176-d673-b1fa8e437944"
      },
      "execution_count": 13,
      "outputs": [
        {
          "output_type": "stream",
          "name": "stdout",
          "text": [
            "\n",
            "Data Bersih:\n",
            "      Name   Age  Gender  Admission Test Score  High School Percentage  \\\n",
            "0  Shehroz  24.0  Female                  50.0               68.900000   \n",
            "1    Waqar  21.0  Female                  99.0               60.730000   \n",
            "2   Bushra  17.0    Male                  89.0               75.684726   \n",
            "3    Aliya  17.0    Male                  55.0               85.290000   \n",
            "4    Bilal  20.0    Male                  65.0               61.130000   \n",
            "\n",
            "        City Admission Status  \n",
            "0     Quetta         Rejected  \n",
            "1    Karachi         Rejected  \n",
            "2  Islamabad         Accepted  \n",
            "3    Karachi         Rejected  \n",
            "4     Lahore         Rejected  \n"
          ]
        }
      ]
    }
  ]
}